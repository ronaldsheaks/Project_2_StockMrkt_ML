{
 "cells": [
  {
   "cell_type": "code",
   "execution_count": 1,
   "id": "ea807025",
   "metadata": {},
   "outputs": [
    {
     "name": "stdout",
     "output_type": "stream",
     "text": [
      "API Key Loaded: PI6SLMSS0TV0GP5W\n"
     ]
    }
   ],
   "source": [
    "import os\n",
    "from dotenv import load_dotenv\n",
    "\n",
    "# Load environment variables from the .env file\n",
    "env_path = '/Users/ronaldsheaks/Desktop/OSU AI Bootcamp/Group Project 2/GitHub Repo/Project_2_StockMrkt_ML/stockapi.env'\n",
    "load_dotenv(env_path)\n",
    "\n",
    "# Print the API key to ensure it's being loaded correctly\n",
    "api_key = os.getenv('ALPHA_VANTAGE_API_KEY')\n",
    "print(f\"API Key Loaded: {api_key}\")\n",
    "\n",
    "# The rest of your code follows here...\n"
   ]
  },
  {
   "cell_type": "code",
   "execution_count": 2,
   "id": "0e1f66f6",
   "metadata": {},
   "outputs": [
    {
     "name": "stdout",
     "output_type": "stream",
     "text": [
      "Data for AAPL saved to /Users/ronaldsheaks/Desktop/OSU AI Bootcamp/Group Project 2/GitHub Repo/Project_2_StockMrkt_ML/Historical Stock Data CSV/AAPL_2020_2024.csv\n",
      "Data for GOOGL saved to /Users/ronaldsheaks/Desktop/OSU AI Bootcamp/Group Project 2/GitHub Repo/Project_2_StockMrkt_ML/Historical Stock Data CSV/GOOGL_2020_2024.csv\n",
      "Data for AMZN saved to /Users/ronaldsheaks/Desktop/OSU AI Bootcamp/Group Project 2/GitHub Repo/Project_2_StockMrkt_ML/Historical Stock Data CSV/AMZN_2020_2024.csv\n",
      "Error fetching data for BTC-USD: Invalid API call. Please retry or visit the documentation (https://www.alphavantage.co/documentation/) for TIME_SERIES_DAILY_ADJUSTED.\n"
     ]
    }
   ],
   "source": [
    "import os\n",
    "import requests\n",
    "import pandas as pd\n",
    "from dotenv import load_dotenv\n",
    "\n",
    "# Load API key from environment file\n",
    "env_path = '/Users/ronaldsheaks/Desktop/OSU AI Bootcamp/Group Project 2/GitHub Repo/Project_2_StockMrkt_ML/stockapi.env'\n",
    "load_dotenv(env_path)\n",
    "api_key = os.getenv('ALPHA_VANTAGE_API_KEY')\n",
    "\n",
    "# Define output directory\n",
    "output_dir = '/Users/ronaldsheaks/Desktop/OSU AI Bootcamp/Group Project 2/GitHub Repo/Project_2_StockMrkt_ML/Historical Stock Data CSV'\n",
    "\n",
    "# Function to fetch data and save as CSV\n",
    "def fetch_and_save_data(symbol, output_filename, api_key):\n",
    "    base_url = \"https://www.alphavantage.co/query?\"\n",
    "    function = \"TIME_SERIES_DAILY_ADJUSTED\"\n",
    "    \n",
    "    params = {\n",
    "        \"function\": function,\n",
    "        \"symbol\": symbol,\n",
    "        \"outputsize\": \"full\",\n",
    "        \"apikey\": api_key,\n",
    "        \"datatype\": \"json\"\n",
    "    }\n",
    "    \n",
    "    response = requests.get(base_url, params=params)\n",
    "    data = response.json()\n",
    "\n",
    "    if \"Time Series (Daily)\" in data:\n",
    "        time_series = data[\"Time Series (Daily)\"]\n",
    "        df = pd.DataFrame.from_dict(time_series, orient='index')\n",
    "        df.index = pd.to_datetime(df.index)\n",
    "        df.columns = [\n",
    "            \"Open\", \"High\", \"Low\", \"Close\", \"Adjusted Close\", \"Volume\", \n",
    "            \"Dividend Amount\", \"Split Coefficient\"\n",
    "        ]\n",
    "        df = df.sort_index()\n",
    "\n",
    "        # Filter data between 2020 and 2024\n",
    "        df = df.loc[(df.index >= \"2020-01-01\") & (df.index <= \"2024-12-31\")]\n",
    "\n",
    "        # Save to CSV\n",
    "        output_path = os.path.join(output_dir, output_filename)\n",
    "        df.to_csv(output_path)\n",
    "        print(f\"Data for {symbol} saved to {output_path}\")\n",
    "    else:\n",
    "        print(f\"Error fetching data for {symbol}: {data.get('Error Message', 'Unknown error')}\")\n",
    "\n",
    "# List of stock symbols and Bitcoin\n",
    "symbols = {\n",
    "    \"AAPL\": \"AAPL_2020_2024.csv\",  # Apple\n",
    "    \"GOOGL\": \"GOOGL_2020_2024.csv\",  # Alphabet\n",
    "    \"AMZN\": \"AMZN_2020_2024.csv\",  # Amazon\n",
    "    \"BTC-USD\": \"BTC_2020_2024.csv\"  # Bitcoin\n",
    "}\n",
    "\n",
    "# Fetch data for each symbol\n",
    "for symbol, filename in symbols.items():\n",
    "    fetch_and_save_data(symbol, filename, api_key)\n",
    "\n",
    "# Ensure you have your API key in the .env file as follows:\n",
    "# ALPHA_VANTAGE_API_KEY=EI0HSU8V8OHK9UJL\n"
   ]
  }
 ],
 "metadata": {
  "kernelspec": {
   "display_name": "Python 3 (ipykernel)",
   "language": "python",
   "name": "python3"
  },
  "language_info": {
   "codemirror_mode": {
    "name": "ipython",
    "version": 3
   },
   "file_extension": ".py",
   "mimetype": "text/x-python",
   "name": "python",
   "nbconvert_exporter": "python",
   "pygments_lexer": "ipython3",
   "version": "3.11.7"
  }
 },
 "nbformat": 4,
 "nbformat_minor": 5
}
