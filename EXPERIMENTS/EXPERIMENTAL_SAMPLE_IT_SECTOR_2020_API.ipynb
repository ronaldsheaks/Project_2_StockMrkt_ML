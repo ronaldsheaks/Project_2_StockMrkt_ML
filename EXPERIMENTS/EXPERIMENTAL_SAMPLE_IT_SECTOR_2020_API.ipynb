{
 "cells": [
  {
   "cell_type": "code",
   "execution_count": 1,
   "id": "4e6bd7dd",
   "metadata": {},
   "outputs": [
    {
     "name": "stdout",
     "output_type": "stream",
     "text": [
      "Data for NVDA saved to /Users/ronaldsheaks/Desktop/OSU AI Bootcamp/Group Project 2/GitHub Repo/Project_2_StockMrkt_ML/Historical Stock Data CSV/IT_SECTOR_2020_All_Indices/NVDA_2020.csv\n",
      "Data for CSCO saved to /Users/ronaldsheaks/Desktop/OSU AI Bootcamp/Group Project 2/GitHub Repo/Project_2_StockMrkt_ML/Historical Stock Data CSV/IT_SECTOR_2020_All_Indices/CSCO_2020.csv\n",
      "Data for MSFT saved to /Users/ronaldsheaks/Desktop/OSU AI Bootcamp/Group Project 2/GitHub Repo/Project_2_StockMrkt_ML/Historical Stock Data CSV/IT_SECTOR_2020_All_Indices/MSFT_2020.csv\n",
      "Data for INTC saved to /Users/ronaldsheaks/Desktop/OSU AI Bootcamp/Group Project 2/GitHub Repo/Project_2_StockMrkt_ML/Historical Stock Data CSV/IT_SECTOR_2020_All_Indices/INTC_2020.csv\n",
      "Data for AAPL saved to /Users/ronaldsheaks/Desktop/OSU AI Bootcamp/Group Project 2/GitHub Repo/Project_2_StockMrkt_ML/Historical Stock Data CSV/IT_SECTOR_2020_All_Indices/AAPL_2020.csv\n",
      "Data for GOOGL saved to /Users/ronaldsheaks/Desktop/OSU AI Bootcamp/Group Project 2/GitHub Repo/Project_2_StockMrkt_ML/Historical Stock Data CSV/IT_SECTOR_2020_All_Indices/GOOGL_2020.csv\n",
      "Data for AMZN saved to /Users/ronaldsheaks/Desktop/OSU AI Bootcamp/Group Project 2/GitHub Repo/Project_2_StockMrkt_ML/Historical Stock Data CSV/IT_SECTOR_2020_All_Indices/AMZN_2020.csv\n"
     ]
    }
   ],
   "source": [
    "import os\n",
    "import requests\n",
    "import pandas as pd\n",
    "from dotenv import load_dotenv\n",
    "\n",
    "# Load API key from environment file\n",
    "env_path = '/Users/ronaldsheaks/Desktop/OSU AI Bootcamp/Group Project 2/GitHub Repo/Project_2_StockMrkt_ML/stockapi.env'\n",
    "load_dotenv(env_path)\n",
    "api_key = os.getenv('ALPHA_VANTAGE_API_KEY')\n",
    "\n",
    "# Define output directory\n",
    "output_dir = '/Users/ronaldsheaks/Desktop/OSU AI Bootcamp/Group Project 2/GitHub Repo/Project_2_StockMrkt_ML/Historical Stock Data CSV/IT_SECTOR_2020_All_Indices'\n",
    "\n",
    "# Function to fetch data and save as CSV\n",
    "def fetch_and_save_data(symbol, output_filename, api_key):\n",
    "    base_url = \"https://www.alphavantage.co/query?\"\n",
    "    function = \"TIME_SERIES_DAILY_ADJUSTED\"\n",
    "    \n",
    "    params = {\n",
    "        \"function\": function,\n",
    "        \"symbol\": symbol,\n",
    "        \"outputsize\": \"full\",\n",
    "        \"apikey\": api_key,\n",
    "        \"datatype\": \"json\"\n",
    "    }\n",
    "    \n",
    "    response = requests.get(base_url, params=params)\n",
    "    data = response.json()\n",
    "\n",
    "    if \"Time Series (Daily)\" in data:\n",
    "        time_series = data[\"Time Series (Daily)\"]\n",
    "        df = pd.DataFrame.from_dict(time_series, orient='index')\n",
    "        df.index = pd.to_datetime(df.index)\n",
    "        df.columns = [\n",
    "            \"Open\", \"High\", \"Low\", \"Close\", \"Adjusted Close\", \"Volume\", \n",
    "            \"Dividend Amount\", \"Split Coefficient\"\n",
    "        ]\n",
    "        df = df.sort_index()\n",
    "\n",
    "        # Filter data between 2020 and 2024\n",
    "        df = df.loc[(df.index >= \"2020-01-01\") & (df.index <= \"2020-12-31\")]\n",
    "\n",
    "        # Save to CSV\n",
    "        output_path = os.path.join(output_dir, output_filename)\n",
    "        df.to_csv(output_path)\n",
    "        print(f\"Data for {symbol} saved to {output_path}\")\n",
    "    else:\n",
    "        print(f\"Error fetching data for {symbol}: {data.get('Error Message', 'Unknown error')}\")\n",
    "\n",
    "# List of IT sector stock symbols across all indices\n",
    "symbols = {\n",
    "    \"NVDA\": \"NVDA_2020.csv\",   # Nvidia\n",
    "    \"CSCO\": \"CSCO_2020.csv\",   # Cisco\n",
    "    \"MSFT\": \"MSFT_2020.csv\",   # Microsoft\n",
    "    \"INTC\": \"INTC_2020.csv\",   # Intel\n",
    "    \"AAPL\": \"AAPL_2020.csv\",   # Apple\n",
    "    \"GOOGL\": \"GOOGL_2020.csv\", # Alphabet (Google)\n",
    "    \"AMZN\": \"AMZN_2020.csv\"    # Amazon\n",
    "}\n",
    "\n",
    "# Fetch data for each symbol\n",
    "for symbol, filename in symbols.items():\n",
    "    fetch_and_save_data(symbol, filename, api_key)\n"
   ]
  },
  {
   "cell_type": "code",
   "execution_count": null,
   "id": "219cc834",
   "metadata": {},
   "outputs": [],
   "source": []
  }
 ],
 "metadata": {
  "kernelspec": {
   "display_name": "Python 3 (ipykernel)",
   "language": "python",
   "name": "python3"
  },
  "language_info": {
   "codemirror_mode": {
    "name": "ipython",
    "version": 3
   },
   "file_extension": ".py",
   "mimetype": "text/x-python",
   "name": "python",
   "nbconvert_exporter": "python",
   "pygments_lexer": "ipython3",
   "version": "3.11.7"
  }
 },
 "nbformat": 4,
 "nbformat_minor": 5
}
