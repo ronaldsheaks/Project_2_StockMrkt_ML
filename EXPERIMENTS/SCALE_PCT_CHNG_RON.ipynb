{
 "cells": [
  {
   "cell_type": "code",
   "execution_count": 1,
   "id": "402806f6",
   "metadata": {},
   "outputs": [
    {
     "name": "stdout",
     "output_type": "stream",
     "text": [
      "         date Symbol   Close  pct_change  profit_indicator  pct_change_scaled\n",
      "1  2022-01-04   AKAM  116.95   -0.004766                 0          -0.029012\n",
      "2  2022-01-05   AKAM  115.48   -0.012569                 0          -0.046217\n",
      "3  2022-01-06   AKAM  111.88   -0.031174                 0          -0.087235\n",
      "4  2022-01-07   AKAM  110.54   -0.011977                 0          -0.044912\n",
      "5  2022-01-10   AKAM  112.65    0.019088                 1           0.023577\n"
     ]
    }
   ],
   "source": [
    "import pandas as pd\n",
    "from sklearn.preprocessing import StandardScaler\n",
    "\n",
    "# Load the data from the CSV file\n",
    "file_path = '/Users/ronaldsheaks/Desktop/OSU AI Bootcamp/Group Project 2/GitHub Repo/Project_2_StockMrkt_ML/JUPYTER_NOTEBOOKS/output.csv'\n",
    "stock_data = pd.read_csv(file_path)\n",
    "\n",
    "# Rename the first column to 'date'\n",
    "stock_data.rename(columns={\"Unnamed: 0\": \"date\"}, inplace=True)\n",
    "\n",
    "# Calculate the percentage change between the current day close and the previous day close\n",
    "stock_data['pct_change'] = stock_data['Close'].pct_change()\n",
    "\n",
    "# Generate a profit indicator: 1 if the percentage change is positive, else 0\n",
    "stock_data['profit_indicator'] = (stock_data['pct_change'] > 0).astype(int)\n",
    "\n",
    "# Drop rows with NaN values (these occur due to the percentage change calculation)\n",
    "stock_data = stock_data.dropna(subset=['pct_change'])\n",
    "\n",
    "# Standardize the pct_change feature\n",
    "scaler = StandardScaler()\n",
    "stock_data['pct_change_scaled'] = scaler.fit_transform(stock_data[['pct_change']])\n",
    "\n",
    "# Display the first few rows of the modified dataset\n",
    "print(stock_data[['date', 'Symbol', 'Close', 'pct_change', 'profit_indicator', 'pct_change_scaled']].head())\n",
    "\n",
    "# Optionally, save the modified data back to a CSV\n",
    "output_path = '/Users/ronaldsheaks/Desktop/OSU AI Bootcamp/Group Project 2/GitHub Repo/Project_2_StockMrkt_ML/JUPYTER_NOTEBOOKS/modified_output.csv'\n",
    "stock_data.to_csv(output_path, index=False)\n"
   ]
  },
  {
   "cell_type": "code",
   "execution_count": null,
   "id": "7accde3b",
   "metadata": {},
   "outputs": [],
   "source": []
  }
 ],
 "metadata": {
  "kernelspec": {
   "display_name": "Python 3 (ipykernel)",
   "language": "python",
   "name": "python3"
  },
  "language_info": {
   "codemirror_mode": {
    "name": "ipython",
    "version": 3
   },
   "file_extension": ".py",
   "mimetype": "text/x-python",
   "name": "python",
   "nbconvert_exporter": "python",
   "pygments_lexer": "ipython3",
   "version": "3.11.7"
  }
 },
 "nbformat": 4,
 "nbformat_minor": 5
}
