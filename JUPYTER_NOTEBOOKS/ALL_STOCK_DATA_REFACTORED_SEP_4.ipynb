{
 "cells": [
  {
   "cell_type": "code",
   "execution_count": 1,
   "id": "c410d514",
   "metadata": {},
   "outputs": [
    {
     "name": "stdout",
     "output_type": "stream",
     "text": [
      "Data has been successfully processed and saved to: /Users/ronaldsheaks/Desktop/OSU AI Bootcamp/Group Project 2/GitHub Repo/Project_2_StockMrkt_ML/DATA_OUTPUTS/CSV/ALL_YEAR_DATA_REFACTORED_CHATGPT_SEP_4.csv\n"
     ]
    }
   ],
   "source": [
    "import pandas as pd\n",
    "import os\n",
    "import re\n",
    "\n",
    "# Define the path to the data folder and output path\n",
    "data_path = \"/Users/ronaldsheaks/Desktop/OSU AI Bootcamp/Group Project 2/GitHub Repo/Project_2_StockMrkt_ML/ALL_STOCKMARKET_DATA_2020_24/IT_SECTOR_2020_24\"\n",
    "output_path = \"/Users/ronaldsheaks/Desktop/OSU AI Bootcamp/Group Project 2/GitHub Repo/Project_2_StockMrkt_ML/DATA_OUTPUTS/CSV/ALL_YEAR_DATA_REFACTORED_CHATGPT_SEP_4.csv\"\n",
    "\n",
    "# Initialize an empty dataframe to store the concatenated data\n",
    "all_year_data = pd.DataFrame()\n",
    "\n",
    "# Load and concatenate data from all folders\n",
    "folders = os.listdir(data_path)\n",
    "if '.DS_Store' in folders:\n",
    "    folders.remove('.DS_Store')\n",
    "\n",
    "for folder in folders:\n",
    "    for year in range(2020, 2025):\n",
    "        year_path = os.path.join(data_path, folder, str(year))\n",
    "        if os.path.exists(year_path):\n",
    "            files = os.listdir(year_path)\n",
    "            for file in files:\n",
    "                file_path = os.path.join(year_path, file)\n",
    "                data = pd.read_csv(file_path)\n",
    "\n",
    "                # Extract ticker name from file name\n",
    "                ticker_name = re.findall(r'(\\w+)_\\d{4}\\.csv', file)[0]\n",
    "                data['Ticker'] = ticker_name\n",
    "\n",
    "                # Concatenate data\n",
    "                all_year_data = pd.concat([all_year_data, data], ignore_index=True)\n",
    "\n",
    "# Step 1: Calculate Daily Change in Price Percentage based on 5-day moving average\n",
    "all_year_data['Daily_Change_In_Price'] = (all_year_data['Close'] - all_year_data['Close'].shift(1)) / all_year_data['Close'].shift(1)\n",
    "\n",
    "# Calculate 5-day moving average\n",
    "all_year_data['MA_5'] = all_year_data['Close'].rolling(window=5).mean().shift(1)\n",
    "\n",
    "# Drop rows with missing moving averages\n",
    "all_year_data.dropna(subset=['MA_5'], inplace=True)\n",
    "\n",
    "# Step 2: Create binary columns for profit percentages (5%, 10%, ..., 100%)\n",
    "thresholds = [5, 10, 25, 50, 100]\n",
    "for threshold in thresholds:\n",
    "    column_name = f'Profit_{threshold}_Percent'\n",
    "    all_year_data[column_name] = all_year_data['Daily_Change_In_Price'].apply(lambda x: 1 if x >= threshold / 100 else 0)\n",
    "\n",
    "# Step 3: One-Hot Encode the 'Index' and 'Ticker' columns\n",
    "if 'Index' in all_year_data.columns:\n",
    "    all_year_data = pd.get_dummies(all_year_data, columns=['Index'], prefix='Index')\n",
    "if 'Ticker' in all_year_data.columns:\n",
    "    all_year_data = pd.get_dummies(all_year_data, columns=['Ticker'], prefix='Ticker')\n",
    "\n",
    "# Step 4: Convert 'Date' column to datetime and extract year, month, day\n",
    "if 'Unnamed: 0' in all_year_data.columns:\n",
    "    all_year_data.rename(columns={'Unnamed: 0': 'Date'}, inplace=True)\n",
    "    all_year_data['Date'] = pd.to_datetime(all_year_data['Date'])\n",
    "\n",
    "# Extract year, month, day as separate columns\n",
    "all_year_data['Year'] = all_year_data['Date'].dt.year\n",
    "all_year_data['Month'] = all_year_data['Date'].dt.month\n",
    "all_year_data['Day'] = all_year_data['Date'].dt.day\n",
    "\n",
    "# Drop the 'Date' column if not needed\n",
    "all_year_data.drop(columns=['Date'], inplace=True)\n",
    "\n",
    "# Step 5: Save the final DataFrame to the output path\n",
    "all_year_data.to_csv(output_path, index=False)\n",
    "\n",
    "print(f\"Data has been successfully processed and saved to: {output_path}\")\n"
   ]
  },
  {
   "cell_type": "code",
   "execution_count": null,
   "id": "eafcfc11",
   "metadata": {},
   "outputs": [],
   "source": []
  }
 ],
 "metadata": {
  "kernelspec": {
   "display_name": "Python 3 (ipykernel)",
   "language": "python",
   "name": "python3"
  },
  "language_info": {
   "codemirror_mode": {
    "name": "ipython",
    "version": 3
   },
   "file_extension": ".py",
   "mimetype": "text/x-python",
   "name": "python",
   "nbconvert_exporter": "python",
   "pygments_lexer": "ipython3",
   "version": "3.11.7"
  }
 },
 "nbformat": 4,
 "nbformat_minor": 5
}
