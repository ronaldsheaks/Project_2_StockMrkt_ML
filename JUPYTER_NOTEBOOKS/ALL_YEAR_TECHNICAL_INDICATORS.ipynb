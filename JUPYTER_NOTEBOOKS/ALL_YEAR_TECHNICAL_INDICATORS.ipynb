{
 "cells": [
  {
   "cell_type": "code",
   "execution_count": 1,
   "id": "777c66a2",
   "metadata": {},
   "outputs": [
    {
     "name": "stdout",
     "output_type": "stream",
     "text": [
      "Data with technical indicators has been saved to: /Users/ronaldsheaks/Desktop/OSU AI Bootcamp/Group Project 2/GitHub Repo/Project_2_StockMrkt_ML/DATA_OUTPUTS/CSV/ALL_YEAR_DATA_TECHNICAL_INDICATORS.csv\n"
     ]
    }
   ],
   "source": [
    "import pandas as pd\n",
    "\n",
    "# Load the provided CSV file\n",
    "file_path = '/Users/ronaldsheaks/Desktop/OSU AI Bootcamp/Group Project 2/GitHub Repo/Project_2_StockMrkt_ML/DATA_OUTPUTS/CSV/ALL_YEAR_DATA_REFACTORED_CHATGPT_SEP_4.csv'\n",
    "data = pd.read_csv(file_path)\n",
    "\n",
    "# Step 1: Calculate Technical Indicators\n",
    "\n",
    "# Moving Averages (SMA and EMA)\n",
    "data['SMA_50'] = data['Close'].rolling(window=50).mean()  # 50-day Simple Moving Average\n",
    "data['SMA_200'] = data['Close'].rolling(window=200).mean()  # 200-day Simple Moving Average\n",
    "data['EMA_20'] = data['Close'].ewm(span=20, adjust=False).mean()  # 20-day Exponential Moving Average\n",
    "\n",
    "# Relative Strength Index (RSI)\n",
    "window_length = 14\n",
    "close = data['Close']\n",
    "delta = close.diff(1)\n",
    "gain = delta.where(delta > 0, 0)\n",
    "loss = -delta.where(delta < 0, 0)\n",
    "avg_gain = gain.rolling(window=window_length, min_periods=1).mean()\n",
    "avg_loss = loss.rolling(window=window_length, min_periods=1).mean()\n",
    "rs = avg_gain / avg_loss\n",
    "data['RSI'] = 100 - (100 / (1 + rs))\n",
    "\n",
    "# Moving Average Convergence Divergence (MACD)\n",
    "data['MACD'] = data['Close'].ewm(span=12, adjust=False).mean() - data['Close'].ewm(span=26, adjust=False).mean()\n",
    "data['Signal_Line'] = data['MACD'].ewm(span=9, adjust=False).mean()\n",
    "\n",
    "# Bollinger Bands\n",
    "data['Bollinger_Mid'] = data['Close'].rolling(window=20).mean()\n",
    "data['Bollinger_Upper'] = data['Bollinger_Mid'] + (data['Close'].rolling(window=20).std() * 2)\n",
    "data['Bollinger_Lower'] = data['Bollinger_Mid'] - (data['Close'].rolling(window=20).std() * 2)\n",
    "\n",
    "# Average True Range (ATR)\n",
    "data['High-Low'] = data['High'] - data['Low']\n",
    "data['High-Close'] = (data['High'] - data['Close'].shift(1)).abs()\n",
    "data['Low-Close'] = (data['Low'] - data['Close'].shift(1)).abs()\n",
    "data['True_Range'] = data[['High-Low', 'High-Close', 'Low-Close']].max(axis=1)\n",
    "data['ATR'] = data['True_Range'].rolling(window=14).mean()\n",
    "\n",
    "# Step 2: Drop intermediate columns used for calculations but not needed in final data\n",
    "data.drop(columns=['High-Low', 'High-Close', 'Low-Close', 'True_Range'], inplace=True)\n",
    "\n",
    "# Step 3: Save the output to a new CSV file\n",
    "output_path = '/Users/ronaldsheaks/Desktop/OSU AI Bootcamp/Group Project 2/GitHub Repo/Project_2_StockMrkt_ML/DATA_OUTPUTS/CSV/ALL_YEAR_DATA_TECHNICAL_INDICATORS.csv'\n",
    "data.to_csv(output_path, index=False)\n",
    "\n",
    "print(f\"Data with technical indicators has been saved to: {output_path}\")\n"
   ]
  },
  {
   "cell_type": "code",
   "execution_count": 2,
   "id": "7ab09bb2",
   "metadata": {},
   "outputs": [],
   "source": [
    "#Graphs\n"
   ]
  },
  {
   "cell_type": "code",
   "execution_count": 15,
   "id": "1fbe0b13",
   "metadata": {},
   "outputs": [
    {
     "data": {
      "image/png": "iVBORw0KGgoAAAANSUhEUgAABW0AAAKyCAYAAACuWPzHAAAAOXRFWHRTb2Z0d2FyZQBNYXRwbG90bGliIHZlcnNpb24zLjguNCwgaHR0cHM6Ly9tYXRwbG90bGliLm9yZy8fJSN1AAAACXBIWXMAAA9hAAAPYQGoP6dpAAEAAElEQVR4nOzdd3xN9x/H8dfNXpIQMhBik9g71N5Uqa1mtXRrq/1VUaMDpUurNdparZpVVKm9W3tTmwiSiJHITm5yz++Pb+7KIEYk+Dwf